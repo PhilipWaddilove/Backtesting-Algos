{
 "cells": [
  {
   "cell_type": "markdown",
   "metadata": {},
   "source": [
    "# Algo Trading News or Noise"
   ]
  },
  {
   "cell_type": "markdown",
   "metadata": {},
   "source": [
    "## Imports\n",
    "---"
   ]
  },
  {
   "cell_type": "code",
   "execution_count": null,
   "metadata": {},
   "outputs": [],
   "source": [
    "import pandas as pd\n",
    "import numpy as np\n",
    "import datetime as dt\n",
    "from datetime import datetime\n",
    "from dateutil.relativedelta import relativedelta\n",
    "from pathlib import Path\n",
    "%matplotlib inline\n",
    "import matplotlib.pyplot as plt\n",
    "import plotly.express as px\n",
    "import hvplot.pandas\n",
    "from dotenv import load_dotenv\n",
    "import panel as pn\n",
    "from panel.interact import interact\n",
    "from panel import widgets\n",
    "import alpaca_trade_api as tradeapi\n",
    "import quandl\n",
    "import os\n",
    "import requests\n",
    "import ccxt\n",
    "import time"
   ]
  },
  {
   "cell_type": "markdown",
   "metadata": {},
   "source": [
    "## Read in data\n",
    "---"
   ]
  },
  {
   "cell_type": "code",
   "execution_count": 51,
   "metadata": {},
   "outputs": [
    {
     "data": {
      "text/html": [
       "<div>\n",
       "<style scoped>\n",
       "    .dataframe tbody tr th:only-of-type {\n",
       "        vertical-align: middle;\n",
       "    }\n",
       "\n",
       "    .dataframe tbody tr th {\n",
       "        vertical-align: top;\n",
       "    }\n",
       "\n",
       "    .dataframe thead th {\n",
       "        text-align: right;\n",
       "    }\n",
       "</style>\n",
       "<table border=\"1\" class=\"dataframe\">\n",
       "  <thead>\n",
       "    <tr style=\"text-align: right;\">\n",
       "      <th></th>\n",
       "      <th>SPY</th>\n",
       "      <th>XLF</th>\n",
       "      <th>XLK</th>\n",
       "      <th>XLU</th>\n",
       "      <th>XLI</th>\n",
       "      <th>XLV</th>\n",
       "      <th>XLY</th>\n",
       "      <th>XLP</th>\n",
       "      <th>XLB</th>\n",
       "      <th>XOP</th>\n",
       "      <th>XHB</th>\n",
       "      <th>XME</th>\n",
       "      <th>XRT</th>\n",
       "      <th>ETH</th>\n",
       "      <th>LTC</th>\n",
       "    </tr>\n",
       "  </thead>\n",
       "  <tbody>\n",
       "    <tr>\n",
       "      <th>2020-12-24</th>\n",
       "      <td>368.9899</td>\n",
       "      <td>28.94</td>\n",
       "      <td>129.05</td>\n",
       "      <td>61.19</td>\n",
       "      <td>88.01</td>\n",
       "      <td>111.48</td>\n",
       "      <td>157.91</td>\n",
       "      <td>66.44</td>\n",
       "      <td>71.58</td>\n",
       "      <td>58.99</td>\n",
       "      <td>59.40</td>\n",
       "      <td>32.57</td>\n",
       "      <td>64.740</td>\n",
       "      <td>20.09</td>\n",
       "      <td>39.30</td>\n",
       "    </tr>\n",
       "    <tr>\n",
       "      <th>2020-12-28</th>\n",
       "      <td>372.1400</td>\n",
       "      <td>29.07</td>\n",
       "      <td>130.52</td>\n",
       "      <td>61.48</td>\n",
       "      <td>88.09</td>\n",
       "      <td>111.72</td>\n",
       "      <td>159.68</td>\n",
       "      <td>66.97</td>\n",
       "      <td>71.28</td>\n",
       "      <td>57.92</td>\n",
       "      <td>58.41</td>\n",
       "      <td>32.40</td>\n",
       "      <td>65.070</td>\n",
       "      <td>20.25</td>\n",
       "      <td>39.41</td>\n",
       "    </tr>\n",
       "    <tr>\n",
       "      <th>2020-12-29</th>\n",
       "      <td>371.4800</td>\n",
       "      <td>28.97</td>\n",
       "      <td>129.89</td>\n",
       "      <td>61.47</td>\n",
       "      <td>87.52</td>\n",
       "      <td>112.24</td>\n",
       "      <td>159.74</td>\n",
       "      <td>67.42</td>\n",
       "      <td>71.12</td>\n",
       "      <td>57.35</td>\n",
       "      <td>57.92</td>\n",
       "      <td>32.26</td>\n",
       "      <td>64.275</td>\n",
       "      <td>20.02</td>\n",
       "      <td>39.03</td>\n",
       "    </tr>\n",
       "    <tr>\n",
       "      <th>2020-12-30</th>\n",
       "      <td>371.9300</td>\n",
       "      <td>29.11</td>\n",
       "      <td>129.83</td>\n",
       "      <td>61.79</td>\n",
       "      <td>88.13</td>\n",
       "      <td>112.24</td>\n",
       "      <td>160.69</td>\n",
       "      <td>67.13</td>\n",
       "      <td>72.10</td>\n",
       "      <td>59.32</td>\n",
       "      <td>58.16</td>\n",
       "      <td>33.40</td>\n",
       "      <td>64.910</td>\n",
       "      <td>20.26</td>\n",
       "      <td>38.68</td>\n",
       "    </tr>\n",
       "    <tr>\n",
       "      <th>2020-12-31</th>\n",
       "      <td>373.8500</td>\n",
       "      <td>29.47</td>\n",
       "      <td>130.07</td>\n",
       "      <td>62.70</td>\n",
       "      <td>88.59</td>\n",
       "      <td>113.43</td>\n",
       "      <td>160.77</td>\n",
       "      <td>67.05</td>\n",
       "      <td>72.38</td>\n",
       "      <td>58.49</td>\n",
       "      <td>57.63</td>\n",
       "      <td>33.43</td>\n",
       "      <td>64.330</td>\n",
       "      <td>20.21</td>\n",
       "      <td>38.91</td>\n",
       "    </tr>\n",
       "  </tbody>\n",
       "</table>\n",
       "</div>"
      ],
      "text/plain": [
       "                 SPY    XLF     XLK    XLU    XLI     XLV     XLY    XLP  \\\n",
       "2020-12-24  368.9899  28.94  129.05  61.19  88.01  111.48  157.91  66.44   \n",
       "2020-12-28  372.1400  29.07  130.52  61.48  88.09  111.72  159.68  66.97   \n",
       "2020-12-29  371.4800  28.97  129.89  61.47  87.52  112.24  159.74  67.42   \n",
       "2020-12-30  371.9300  29.11  129.83  61.79  88.13  112.24  160.69  67.13   \n",
       "2020-12-31  373.8500  29.47  130.07  62.70  88.59  113.43  160.77  67.05   \n",
       "\n",
       "              XLB    XOP    XHB    XME     XRT    ETH    LTC  \n",
       "2020-12-24  71.58  58.99  59.40  32.57  64.740  20.09  39.30  \n",
       "2020-12-28  71.28  57.92  58.41  32.40  65.070  20.25  39.41  \n",
       "2020-12-29  71.12  57.35  57.92  32.26  64.275  20.02  39.03  \n",
       "2020-12-30  72.10  59.32  58.16  33.40  64.910  20.26  38.68  \n",
       "2020-12-31  72.38  58.49  57.63  33.43  64.330  20.21  38.91  "
      ]
     },
     "execution_count": 51,
     "metadata": {},
     "output_type": "execute_result"
    }
   ],
   "source": [
    "ETF_csv = Path(\"Resources/ETFs0.csv\")\n",
    "ETF_df = pd.read_csv(ETF_csv, index_col='Unnamed: 0', infer_datetime_format=True, parse_dates=True)\n",
    "ETF_df = ETF_df.drop(ETF_df.index[0])\n",
    "ETF_df.index = pd.to_datetime(ETF_df.index, utc=True).date\n",
    "ETF_df.sort_index(inplace=True)\n",
    "ETF_df.tail()"
   ]
  },
  {
   "cell_type": "markdown",
   "metadata": {},
   "source": [
    "## Set analysis inputs\n",
    "---\n"
   ]
  },
  {
   "cell_type": "code",
   "execution_count": 53,
   "metadata": {},
   "outputs": [
    {
     "name": "stdin",
     "output_type": "stream",
     "text": [
      "Please enter the symbol name in caps:\n",
      " SPY\n",
      "Please input the amount of capital you have (USD):\n",
      " 10000\n",
      "Please input the share size you wish to trade:\n",
      " 500\n"
     ]
    }
   ],
   "source": [
    "ticker = input(\"Please enter the symbol name in caps:\\n\")\n",
    "# Set intial capital\n",
    "initial_capital = input(\"Please input the amount of capital you have (USD):\\n\")\n",
    "initial_capital = int(initial_capital)\n",
    "# \n",
    "share_size = input(\"Please input the share size you wish to trade:\\n\")\n",
    "share_size = int(share_size)\n",
    "# SMA windows\n",
    "# EMA windows\n",
    "# BB window\n",
    "# RSI window\n",
    "# MACD windows\n",
    "# initial capital (for backtesting)"
   ]
  },
  {
   "cell_type": "markdown",
   "metadata": {},
   "source": [
    "\n",
    "## Signal generation\n",
    "---\n",
    "### SMA\n",
    "*Simple Moving Average for a given lookback window*"
   ]
  },
  {
   "cell_type": "code",
   "execution_count": 54,
   "metadata": {},
   "outputs": [],
   "source": [
    "# Grab `ticker` from the dataset\n",
    "SMA_df = ETF_df[f'{ticker}'].copy().to_frame()"
   ]
  },
  {
   "cell_type": "code",
   "execution_count": 56,
   "metadata": {},
   "outputs": [
    {
     "name": "stdin",
     "output_type": "stream",
     "text": [
      "Please choose a short window option: 20, 50 days\n",
      " 20\n",
      "Please choose a long window option: 100, 200 days\n",
      " 100\n"
     ]
    }
   ],
   "source": [
    "# Set the short window and long windows\n",
    "short_window = input(\"Please choose a short window option: 20, 50 days\\n\")\n",
    "short_window = int(short_window)\n",
    "long_window = input(\"Please choose a long window option: 100, 200 days\\n\")\n",
    "long_window = int(long_window)\n",
    "\n",
    "# Generate the short and long moving averages (50 and 100 days, respectively)\n",
    "SMA_df[\"SMA_short\"] = SMA_df[{ticker}].rolling(window=short_window).mean()\n",
    "SMA_df[\"SMA_long\"] = SMA_df[{ticker}].rolling(window=long_window).mean()"
   ]
  },
  {
   "cell_type": "code",
   "execution_count": 57,
   "metadata": {},
   "outputs": [],
   "source": [
    "# Initialize the new `Signal` column\n",
    "SMA_df[\"signal\"] = 0.0\n",
    "\n",
    "# Generate the trading signal -1, 1,\n",
    "# where -1 is when the SMA50 is under the SMA100, and\n",
    "# where 1 is when the SMA50 is higher (or crosses over) the SMA100\n",
    "SMA_df[\"signal\"][short_window:] = np.where(\n",
    "    SMA_df[\"SMA_short\"][short_window:] < SMA_df[\"SMA_long\"][short_window:], -1.0, 1.0\n",
    ")"
   ]
  },
  {
   "cell_type": "code",
   "execution_count": 58,
   "metadata": {},
   "outputs": [],
   "source": [
    "# Calculate the points in time at which a position should be taken, 1 or -1\n",
    "SMA_df[\"entry/exit\"] = SMA_df[\"signal\"].diff()"
   ]
  },
  {
   "cell_type": "code",
   "execution_count": 59,
   "metadata": {},
   "outputs": [
    {
     "data": {
      "text/html": [
       "<div>\n",
       "<style scoped>\n",
       "    .dataframe tbody tr th:only-of-type {\n",
       "        vertical-align: middle;\n",
       "    }\n",
       "\n",
       "    .dataframe tbody tr th {\n",
       "        vertical-align: top;\n",
       "    }\n",
       "\n",
       "    .dataframe thead th {\n",
       "        text-align: right;\n",
       "    }\n",
       "</style>\n",
       "<table border=\"1\" class=\"dataframe\">\n",
       "  <thead>\n",
       "    <tr style=\"text-align: right;\">\n",
       "      <th></th>\n",
       "      <th>SPY</th>\n",
       "      <th>SMA_short</th>\n",
       "      <th>SMA_long</th>\n",
       "      <th>signal</th>\n",
       "      <th>entry/exit</th>\n",
       "    </tr>\n",
       "  </thead>\n",
       "  <tbody>\n",
       "    <tr>\n",
       "      <th>2020-12-24</th>\n",
       "      <td>368.9899</td>\n",
       "      <td>367.568975</td>\n",
       "      <td>347.260294</td>\n",
       "      <td>1.0</td>\n",
       "      <td>0.0</td>\n",
       "    </tr>\n",
       "    <tr>\n",
       "      <th>2020-12-28</th>\n",
       "      <td>372.1400</td>\n",
       "      <td>367.993475</td>\n",
       "      <td>347.661094</td>\n",
       "      <td>1.0</td>\n",
       "      <td>0.0</td>\n",
       "    </tr>\n",
       "    <tr>\n",
       "      <th>2020-12-29</th>\n",
       "      <td>371.4800</td>\n",
       "      <td>368.467475</td>\n",
       "      <td>348.032794</td>\n",
       "      <td>1.0</td>\n",
       "      <td>0.0</td>\n",
       "    </tr>\n",
       "    <tr>\n",
       "      <th>2020-12-30</th>\n",
       "      <td>371.9300</td>\n",
       "      <td>368.765475</td>\n",
       "      <td>348.406594</td>\n",
       "      <td>1.0</td>\n",
       "      <td>0.0</td>\n",
       "    </tr>\n",
       "    <tr>\n",
       "      <th>2020-12-31</th>\n",
       "      <td>373.8500</td>\n",
       "      <td>369.119980</td>\n",
       "      <td>348.789594</td>\n",
       "      <td>1.0</td>\n",
       "      <td>0.0</td>\n",
       "    </tr>\n",
       "  </tbody>\n",
       "</table>\n",
       "</div>"
      ],
      "text/plain": [
       "                 SPY   SMA_short    SMA_long  signal  entry/exit\n",
       "2020-12-24  368.9899  367.568975  347.260294     1.0         0.0\n",
       "2020-12-28  372.1400  367.993475  347.661094     1.0         0.0\n",
       "2020-12-29  371.4800  368.467475  348.032794     1.0         0.0\n",
       "2020-12-30  371.9300  368.765475  348.406594     1.0         0.0\n",
       "2020-12-31  373.8500  369.119980  348.789594     1.0         0.0"
      ]
     },
     "execution_count": 59,
     "metadata": {},
     "output_type": "execute_result"
    }
   ],
   "source": [
    "# Tidy up\n",
    "SMA_df.dropna(inplace=True)\n",
    "SMA_df.tail()"
   ]
  },
  {
   "cell_type": "markdown",
   "metadata": {},
   "source": [
    "---\n",
    "### EMA\n",
    "*Exponential-weighted Moving Average for a given lookback window*"
   ]
  },
  {
   "cell_type": "code",
   "execution_count": null,
   "metadata": {},
   "outputs": [],
   "source": [
    "# Grab `ticker` from the dataset\n",
    "EMA_df = ETF_df[f'{ticker}'].copy().to_frame()"
   ]
  },
  {
   "cell_type": "code",
   "execution_count": null,
   "metadata": {},
   "outputs": [],
   "source": [
    "# Set short and long windows\n",
    "short_window = input(\"Please choose a short window option: 20, 50 days\\n\")\n",
    "short_window = int(short_window)\n",
    "long_window = input(\"Please choose a long window option: 100, 200 days\\n\")\n",
    "long_window = int(long_window)\n",
    "# Construct a `Fast` and `Slow` Exponential Moving Average from short and long windows, respectively\n",
    "EMA_df['EMA_short'] = EMA_df[{ticker}].ewm(halflife=short_window).mean()\n",
    "EMA_df['EMA_long'] = EMA_df[{ticker}].ewm(halflife=long_window).mean()"
   ]
  },
  {
   "cell_type": "code",
   "execution_count": 11,
   "metadata": {},
   "outputs": [],
   "source": [
    "# Initialize signal column\n",
    "EMA_df[\"signal\"] = 0.0\n",
    "\n",
    "# Construct a crossover trading signal\n",
    "# where -1 is when the EMA50 is under the EMA200, and\n",
    "# where 1 is when the EMA50 is higher (or crosses over) the EMA200\n",
    "EMA_df[\"signal\"][short_window:] = np.where(\n",
    "    EMA_df[\"EMA_short\"][short_window:] < EMA_df[\"EMA_long\"][short_window:], -1.0, 1.0\n",
    ")"
   ]
  },
  {
   "cell_type": "code",
   "execution_count": 12,
   "metadata": {},
   "outputs": [],
   "source": [
    "# Calculate the points in time at which a position should be taken, 1 or -1\n",
    "EMA_df[\"entry/exit\"] = EMA_df[\"signal\"].diff()"
   ]
  },
  {
   "cell_type": "code",
   "execution_count": 13,
   "metadata": {},
   "outputs": [
    {
     "data": {
      "text/html": [
       "<div>\n",
       "<style scoped>\n",
       "    .dataframe tbody tr th:only-of-type {\n",
       "        vertical-align: middle;\n",
       "    }\n",
       "\n",
       "    .dataframe tbody tr th {\n",
       "        vertical-align: top;\n",
       "    }\n",
       "\n",
       "    .dataframe thead th {\n",
       "        text-align: right;\n",
       "    }\n",
       "</style>\n",
       "<table border=\"1\" class=\"dataframe\">\n",
       "  <thead>\n",
       "    <tr style=\"text-align: right;\">\n",
       "      <th></th>\n",
       "      <th>SPY</th>\n",
       "      <th>EMA_short</th>\n",
       "      <th>EMA_long</th>\n",
       "      <th>signal</th>\n",
       "      <th>entry/exit</th>\n",
       "    </tr>\n",
       "  </thead>\n",
       "  <tbody>\n",
       "    <tr>\n",
       "      <th>2020-12-24</th>\n",
       "      <td>368.9899</td>\n",
       "      <td>356.165678</td>\n",
       "      <td>324.284557</td>\n",
       "      <td>1.0</td>\n",
       "      <td>0.0</td>\n",
       "    </tr>\n",
       "    <tr>\n",
       "      <th>2020-12-28</th>\n",
       "      <td>372.1400</td>\n",
       "      <td>356.709822</td>\n",
       "      <td>324.615119</td>\n",
       "      <td>1.0</td>\n",
       "      <td>0.0</td>\n",
       "    </tr>\n",
       "    <tr>\n",
       "      <th>2020-12-29</th>\n",
       "      <td>371.4800</td>\n",
       "      <td>357.212948</td>\n",
       "      <td>324.938838</td>\n",
       "      <td>1.0</td>\n",
       "      <td>0.0</td>\n",
       "    </tr>\n",
       "    <tr>\n",
       "      <th>2020-12-30</th>\n",
       "      <td>371.9300</td>\n",
       "      <td>357.714265</td>\n",
       "      <td>325.263430</td>\n",
       "      <td>1.0</td>\n",
       "      <td>0.0</td>\n",
       "    </tr>\n",
       "    <tr>\n",
       "      <th>2020-12-31</th>\n",
       "      <td>373.8500</td>\n",
       "      <td>358.263908</td>\n",
       "      <td>325.599042</td>\n",
       "      <td>1.0</td>\n",
       "      <td>0.0</td>\n",
       "    </tr>\n",
       "  </tbody>\n",
       "</table>\n",
       "</div>"
      ],
      "text/plain": [
       "                 SPY   EMA_short    EMA_long  signal  entry/exit\n",
       "2020-12-24  368.9899  356.165678  324.284557     1.0         0.0\n",
       "2020-12-28  372.1400  356.709822  324.615119     1.0         0.0\n",
       "2020-12-29  371.4800  357.212948  324.938838     1.0         0.0\n",
       "2020-12-30  371.9300  357.714265  325.263430     1.0         0.0\n",
       "2020-12-31  373.8500  358.263908  325.599042     1.0         0.0"
      ]
     },
     "execution_count": 13,
     "metadata": {},
     "output_type": "execute_result"
    }
   ],
   "source": [
    "# Tidy up\n",
    "EMA_df.dropna(inplace=True)\n",
    "EMA_df.tail()"
   ]
  },
  {
   "cell_type": "markdown",
   "metadata": {},
   "source": [
    "---\n",
    "### BBD\n",
    "*Bollinger Bands for a given lookback window*"
   ]
  },
  {
   "cell_type": "code",
   "execution_count": 14,
   "metadata": {},
   "outputs": [],
   "source": [
    "# Grab `ticker` from the dataset\n",
    "BBD_df = ETF_df[f'{ticker}'].copy().to_frame()"
   ]
  },
  {
   "cell_type": "code",
   "execution_count": 15,
   "metadata": {},
   "outputs": [
    {
     "name": "stdin",
     "output_type": "stream",
     "text": [
      "Please choose a 10, 20, 50 bollinger lookback window\n",
      " 20\n"
     ]
    }
   ],
   "source": [
    "# Set bollinger band window\n",
    "bollinger_window = input(\"Please choose a 10, 20, 50 bollinger lookback window\\n\")\n",
    "bollinger_window = int(bollinger_window)"
   ]
  },
  {
   "cell_type": "code",
   "execution_count": 23,
   "metadata": {},
   "outputs": [],
   "source": [
    "# Calculate rolling mean and standard deviation\n",
    "BBD_df['BBD_mid'] = BBD_df[{ticker}].rolling(window=bollinger_window).mean()\n",
    "BBD_df['BBD_std'] = BBD_df[{ticker}].rolling(window=bollinger_window).std()\n",
    "\n",
    "# Calculate upper and lowers bands of bollinger band\n",
    "BBD_df['BBD_upper']  = BBD_df['BBD_mid'] + (BBD_df['BBD_std'] * 1)\n",
    "BBD_df['BBD_lower']  = BBD_df['BBD_mid'] - (BBD_df['BBD_std'] * 1)"
   ]
  },
  {
   "cell_type": "code",
   "execution_count": 24,
   "metadata": {},
   "outputs": [],
   "source": [
    "# Construct a crossover trading signal\n",
    "# where 1 is when the close is under the lower bound, and\n",
    "# where -1 is when the close is higher the upper bound\n",
    "BBD_df[\"long\"] = np.where(\n",
    "    BBD_df[ticker] < BBD_df[\"BBD_lower\"], 1.0, 0.0)\n",
    "BBD_df[\"short\"] = np.where(\n",
    "    BBD_df[ticker] > BBD_df[\"BBD_upper\"], 1.0, 0.0)"
   ]
  },
  {
   "cell_type": "code",
   "execution_count": 25,
   "metadata": {},
   "outputs": [],
   "source": [
    "# Calculate bollinger band trading signal\n",
    "BBD_df['signal'] = BBD_df['long'] - BBD_df['short']\n",
    "BBD_df[\"entry/exit\"] = BBD_df[\"signal\"].diff()"
   ]
  },
  {
   "cell_type": "code",
   "execution_count": 26,
   "metadata": {},
   "outputs": [
    {
     "data": {
      "text/html": [
       "<div>\n",
       "<style scoped>\n",
       "    .dataframe tbody tr th:only-of-type {\n",
       "        vertical-align: middle;\n",
       "    }\n",
       "\n",
       "    .dataframe tbody tr th {\n",
       "        vertical-align: top;\n",
       "    }\n",
       "\n",
       "    .dataframe thead th {\n",
       "        text-align: right;\n",
       "    }\n",
       "</style>\n",
       "<table border=\"1\" class=\"dataframe\">\n",
       "  <thead>\n",
       "    <tr style=\"text-align: right;\">\n",
       "      <th></th>\n",
       "      <th>SPY</th>\n",
       "      <th>BBD_mid</th>\n",
       "      <th>BBD_std</th>\n",
       "      <th>BBD_upper</th>\n",
       "      <th>BBD_lower</th>\n",
       "      <th>long</th>\n",
       "      <th>short</th>\n",
       "      <th>signal</th>\n",
       "      <th>entry/exit</th>\n",
       "    </tr>\n",
       "  </thead>\n",
       "  <tbody>\n",
       "    <tr>\n",
       "      <th>2020-12-24</th>\n",
       "      <td>368.9899</td>\n",
       "      <td>367.568975</td>\n",
       "      <td>2.439630</td>\n",
       "      <td>370.008605</td>\n",
       "      <td>365.129345</td>\n",
       "      <td>0.0</td>\n",
       "      <td>0.0</td>\n",
       "      <td>0.0</td>\n",
       "      <td>0.0</td>\n",
       "    </tr>\n",
       "    <tr>\n",
       "      <th>2020-12-28</th>\n",
       "      <td>372.1400</td>\n",
       "      <td>367.993475</td>\n",
       "      <td>2.460381</td>\n",
       "      <td>370.453856</td>\n",
       "      <td>365.533094</td>\n",
       "      <td>0.0</td>\n",
       "      <td>1.0</td>\n",
       "      <td>-1.0</td>\n",
       "      <td>-1.0</td>\n",
       "    </tr>\n",
       "    <tr>\n",
       "      <th>2020-12-29</th>\n",
       "      <td>371.4800</td>\n",
       "      <td>368.467475</td>\n",
       "      <td>2.136852</td>\n",
       "      <td>370.604327</td>\n",
       "      <td>366.330623</td>\n",
       "      <td>0.0</td>\n",
       "      <td>1.0</td>\n",
       "      <td>-1.0</td>\n",
       "      <td>0.0</td>\n",
       "    </tr>\n",
       "    <tr>\n",
       "      <th>2020-12-30</th>\n",
       "      <td>371.9300</td>\n",
       "      <td>368.765475</td>\n",
       "      <td>2.185264</td>\n",
       "      <td>370.950739</td>\n",
       "      <td>366.580211</td>\n",
       "      <td>0.0</td>\n",
       "      <td>1.0</td>\n",
       "      <td>-1.0</td>\n",
       "      <td>0.0</td>\n",
       "    </tr>\n",
       "    <tr>\n",
       "      <th>2020-12-31</th>\n",
       "      <td>373.8500</td>\n",
       "      <td>369.119980</td>\n",
       "      <td>2.406666</td>\n",
       "      <td>371.526646</td>\n",
       "      <td>366.713314</td>\n",
       "      <td>0.0</td>\n",
       "      <td>1.0</td>\n",
       "      <td>-1.0</td>\n",
       "      <td>0.0</td>\n",
       "    </tr>\n",
       "  </tbody>\n",
       "</table>\n",
       "</div>"
      ],
      "text/plain": [
       "                 SPY     BBD_mid   BBD_std   BBD_upper   BBD_lower  long  \\\n",
       "2020-12-24  368.9899  367.568975  2.439630  370.008605  365.129345   0.0   \n",
       "2020-12-28  372.1400  367.993475  2.460381  370.453856  365.533094   0.0   \n",
       "2020-12-29  371.4800  368.467475  2.136852  370.604327  366.330623   0.0   \n",
       "2020-12-30  371.9300  368.765475  2.185264  370.950739  366.580211   0.0   \n",
       "2020-12-31  373.8500  369.119980  2.406666  371.526646  366.713314   0.0   \n",
       "\n",
       "            short  signal  entry/exit  \n",
       "2020-12-24    0.0     0.0         0.0  \n",
       "2020-12-28    1.0    -1.0        -1.0  \n",
       "2020-12-29    1.0    -1.0         0.0  \n",
       "2020-12-30    1.0    -1.0         0.0  \n",
       "2020-12-31    1.0    -1.0         0.0  "
      ]
     },
     "execution_count": 26,
     "metadata": {},
     "output_type": "execute_result"
    }
   ],
   "source": [
    "# Tidy up\n",
    "BBD_df.dropna(inplace=True)\n",
    "BBD_df.tail()"
   ]
  },
  {
   "cell_type": "markdown",
   "metadata": {},
   "source": [
    "---\n",
    "### RSI\n",
    "*Relative Strength Index for a given lookback window*"
   ]
  },
  {
   "cell_type": "code",
   "execution_count": 27,
   "metadata": {},
   "outputs": [],
   "source": [
    "########################### TO DO ########################### "
   ]
  },
  {
   "cell_type": "markdown",
   "metadata": {},
   "source": [
    "---\n",
    "### MACD\n",
    "*Moving Average Convergence/ Divergence for a given lookback window*"
   ]
  },
  {
   "cell_type": "code",
   "execution_count": 28,
   "metadata": {},
   "outputs": [],
   "source": [
    "########################### TO DO ########################### "
   ]
  },
  {
   "cell_type": "markdown",
   "metadata": {},
   "source": [
    "## Backtesting\n",
    "---\n",
    "### Simulated portfolio\n",
    "*Evaluate historic signal performance*"
   ]
  },
  {
   "cell_type": "code",
   "execution_count": null,
   "metadata": {},
   "outputs": [],
   "source": [
    "# Take a 500 share position where the dual moving average crossover is 1 (SMA50 is greater than SMA100)\n",
    "SMA_df[\"position\"] = share_size * SMA_df[\"signal\"]\n",
    "EMA_df[\"position\"] = share_size * EMA_df[\"signal\"]\n",
    "BBD_df[\"position\"] = share_size * BBD_df[\"signal\"]"
   ]
  },
  {
   "cell_type": "code",
   "execution_count": null,
   "metadata": {},
   "outputs": [],
   "source": [
    "# Find the points in time where a 500 share position is bought or sold\n",
    "SMA_df[\"entry/exit position\"] = SMA_df[\"position\"].diff()\n",
    "EMA_df[\"entry/exit position\"] = EMA_df[\"position\"].diff()\n",
    "BBD_df[\"entry/exit position\"] = BBD_df[\"position\"].diff()"
   ]
  },
  {
   "cell_type": "code",
   "execution_count": null,
   "metadata": {},
   "outputs": [],
   "source": [
    "# Multiply share price by entry/exit positions and get the cumulatively sum\n",
    "SMA_df[\"portfolio holdings\"] = (SMA_df[f'{ticker}'] * SMA_df[\"entry/exit position\"].cumsum())\n",
    "EMA_df[\"portfolio holdings\"] = (EMA_df[f'{ticker}'] * EMA_df[\"entry/exit position\"].cumsum())\n",
    "BBD_df[\"portfolio holdings\"] = (BBD_df[f'{ticker}'] * BBD_df[\"entry/exit position\"].cumsum())"
   ]
  },
  {
   "cell_type": "code",
   "execution_count": null,
   "metadata": {},
   "outputs": [],
   "source": [
    "# Subtract the initial capital by the portfolio holdings to get the amount of liquid cash in the portfolio\n",
    "SMA_df[\"portfolio cash\"] = (initial_capital - (SMA_df[f'{ticker}'] * SMA_df[\"entry/exit position\"]).cumsum())\n",
    "EMA_df[\"portfolio cash\"] = (initial_capital - (EMA_df[f'{ticker}'] * EMA_df[\"entry/exit position\"]).cumsum())\n",
    "BBD_df[\"portfolio cash\"] = (initial_capital - (BBD_df[f'{ticker}'] * BBD_df[\"entry/exit position\"]).cumsum())"
   ]
  },
  {
   "cell_type": "code",
   "execution_count": null,
   "metadata": {},
   "outputs": [],
   "source": [
    "# Get the total portfolio value by adding the cash amount by the portfolio holdings (or investments)\n",
    "SMA_df[\"portfolio total\"] = (SMA_df[\"portfolio cash\"] + SMA_df[\"portfolio holdings\"])\n",
    "EMA_df[\"portfolio total\"] = (EMA_df[\"portfolio cash\"] + EMA_df[\"portfolio holdings\"])\n",
    "BBD_df[\"portfolio total\"] = (BBD_df[\"portfolio cash\"] + BBD_df[\"portfolio holdings\"])"
   ]
  },
  {
   "cell_type": "code",
   "execution_count": null,
   "metadata": {},
   "outputs": [],
   "source": [
    "# Calculate the portfolio daily returns\n",
    "SMA_df[\"portfolio daily returns\"] = SMA_df[\"portfolio total\"].pct_change()\n",
    "EMA_df[\"portfolio daily returns\"] = EMA_df[\"portfolio total\"].pct_change()\n",
    "BBD_df[\"portfolio daily returns\"] = BBD_df[\"portfolio total\"].pct_change()"
   ]
  },
  {
   "cell_type": "code",
   "execution_count": null,
   "metadata": {},
   "outputs": [],
   "source": [
    "# Calculate the cumulative returns\n",
    "SMA_df[\"portfolio cumulative returns\"] = (1 + SMA_df[\"portfolio daily returns\"]).cumprod() - 1\n",
    "EMA_df[\"portfolio cumulative returns\"] = (1 + EMA_df[\"portfolio daily returns\"]).cumprod() - 1\n",
    "BBD_df[\"portfolio cumulative returns\"] = (1 + BBD_df[\"portfolio daily returns\"]).cumprod() - 1"
   ]
  },
  {
   "cell_type": "code",
   "execution_count": null,
   "metadata": {},
   "outputs": [],
   "source": [
    "# Tidy up\n",
    "SMA_df.dropna(inplace=True)\n",
    "EMA_df.dropna(inplace=True)\n",
    "BBD_df.dropna(inplace=True)"
   ]
  },
  {
   "cell_type": "markdown",
   "metadata": {},
   "source": [
    "---\n",
    "### Descriptive statistics\n",
    "*Evaluate backtesting*"
   ]
  },
  {
   "cell_type": "code",
   "execution_count": null,
   "metadata": {},
   "outputs": [],
   "source": [
    "# Prepare DataFrame for metrics\n",
    "metrics = [\n",
    "    'Annual Return (%)',\n",
    "    'Cumulative Returns (%)',\n",
    "    'Annual Volatility (%)',\n",
    "    'Sharpe Ratio',\n",
    "    'Sortino Ratio',\n",
    "    'Max Drawdown (%)']\n",
    "\n",
    "columns = ['SMA', 'EMA', 'BBD', 'RSI', 'MACD']"
   ]
  },
  {
   "cell_type": "code",
   "execution_count": null,
   "metadata": {},
   "outputs": [],
   "source": [
    "# Initialize the DataFrame with index set to evaluation metrics and columns\n",
    "eval_df = pd.DataFrame(index=metrics, columns=columns)\n",
    "eval_df.index.name = f'{ticker}' "
   ]
  },
  {
   "cell_type": "code",
   "execution_count": null,
   "metadata": {},
   "outputs": [],
   "source": [
    "# Calculate cumulative return\n",
    "eval_df.loc['Cumulative Returns (%)', 'SMA'] = round(SMA_df['portfolio cumulative returns'][-1],2)\n",
    "eval_df.loc['Cumulative Returns (%)', 'EMA'] = round(EMA_df['portfolio cumulative returns'][-1],2)\n",
    "eval_df.loc['Cumulative Returns (%)', 'BBD'] = round(BBD_df['portfolio cumulative returns'][-1],2)"
   ]
  },
  {
   "cell_type": "code",
   "execution_count": null,
   "metadata": {},
   "outputs": [],
   "source": [
    "# Calculate annualized return\n",
    "eval_df.loc['Annual Return (%)', 'SMA'] = round((SMA_df['portfolio daily returns'].mean() * 252),2)\n",
    "eval_df.loc['Annual Return (%)', 'EMA'] = round((EMA_df['portfolio daily returns'].mean() * 252),2)\n",
    "eval_df.loc['Annual Return (%)', 'BBD'] = round((BBD_df['portfolio daily returns'].mean() * 252),2)"
   ]
  },
  {
   "cell_type": "code",
   "execution_count": null,
   "metadata": {},
   "outputs": [],
   "source": [
    "# Calculate annual volatility\n",
    "eval_df.loc['Annual Volatility (%)', 'SMA'] = round(SMA_df['portfolio daily returns'].std() * np.sqrt(252),2)\n",
    "eval_df.loc['Annual Volatility (%)', 'EMA'] = round(EMA_df['portfolio daily returns'].std() * np.sqrt(252),2)\n",
    "eval_df.loc['Annual Volatility (%)', 'BBD'] = round(BBD_df['portfolio daily returns'].std() * np.sqrt(252),2)"
   ]
  },
  {
   "cell_type": "code",
   "execution_count": null,
   "metadata": {},
   "outputs": [],
   "source": [
    "# Calculate Sharpe Ratio\n",
    "eval_df.loc['Sharpe Ratio', 'SMA'] = round((SMA_df['portfolio daily returns'].mean() * 252) / (SMA_df['portfolio daily returns'].std() * np.sqrt(252)), 2)\n",
    "eval_df.loc['Sharpe Ratio', 'EMA'] = round((EMA_df['portfolio daily returns'].mean() * 252) / (EMA_df['portfolio daily returns'].std() * np.sqrt(252)), 2)\n",
    "eval_df.loc['Sharpe Ratio', 'BBD'] = round((BBD_df['portfolio daily returns'].mean() * 252) / (BBD_df['portfolio daily returns'].std() * np.sqrt(252)), 2)"
   ]
  },
  {
   "cell_type": "code",
   "execution_count": null,
   "metadata": {},
   "outputs": [],
   "source": [
    "# Calculate Sortino Ratio"
   ]
  },
  {
   "cell_type": "code",
   "execution_count": 44,
   "metadata": {},
   "outputs": [
    {
     "ename": "NameError",
     "evalue": "name 'eval_df' is not defined",
     "output_type": "error",
     "traceback": [
      "\u001b[1;31m---------------------------------------------------------------------------\u001b[0m",
      "\u001b[1;31mNameError\u001b[0m                                 Traceback (most recent call last)",
      "\u001b[1;32m<ipython-input-44-803379f91d7f>\u001b[0m in \u001b[0;36m<module>\u001b[1;34m\u001b[0m\n\u001b[1;32m----> 1\u001b[1;33m \u001b[0meval_df\u001b[0m\u001b[1;33m\u001b[0m\u001b[1;33m\u001b[0m\u001b[0m\n\u001b[0m",
      "\u001b[1;31mNameError\u001b[0m: name 'eval_df' is not defined"
     ]
    }
   ],
   "source": [
    "eval_df"
   ]
  },
  {
   "cell_type": "markdown",
   "metadata": {},
   "source": [
    "## Deep learning\n",
    "---\n",
    "### All signals dataframe"
   ]
  },
  {
   "cell_type": "code",
   "execution_count": 42,
   "metadata": {},
   "outputs": [],
   "source": [
    "# Combine signals\n",
    "signals_df = pd.concat([ETF_df[f'{ticker}'], \n",
    "                        SMA_df['SMA_long'], SMA_df['SMA_short'],\n",
    "                        EMA_df['EMA_long'], EMA_df['EMA_short'],\n",
    "                        BBD_df['BBD_mid'], BBD_df['BBD_std'], BBD_df['BBD_upper'], BBD_df['BBD_lower']\n",
    "                       ], axis=1)"
   ]
  },
  {
   "cell_type": "code",
   "execution_count": 43,
   "metadata": {},
   "outputs": [
    {
     "data": {
      "text/html": [
       "<div>\n",
       "<style scoped>\n",
       "    .dataframe tbody tr th:only-of-type {\n",
       "        vertical-align: middle;\n",
       "    }\n",
       "\n",
       "    .dataframe tbody tr th {\n",
       "        vertical-align: top;\n",
       "    }\n",
       "\n",
       "    .dataframe thead th {\n",
       "        text-align: right;\n",
       "    }\n",
       "</style>\n",
       "<table border=\"1\" class=\"dataframe\">\n",
       "  <thead>\n",
       "    <tr style=\"text-align: right;\">\n",
       "      <th></th>\n",
       "      <th>SPY</th>\n",
       "      <th>SMA_long</th>\n",
       "      <th>SMA_short</th>\n",
       "      <th>EMA_long</th>\n",
       "      <th>EMA_short</th>\n",
       "      <th>BBD_mid</th>\n",
       "      <th>BBD_std</th>\n",
       "      <th>BBD_upper</th>\n",
       "      <th>BBD_lower</th>\n",
       "    </tr>\n",
       "  </thead>\n",
       "  <tbody>\n",
       "    <tr>\n",
       "      <th>2020-12-24</th>\n",
       "      <td>368.9899</td>\n",
       "      <td>347.260294</td>\n",
       "      <td>367.568975</td>\n",
       "      <td>324.284557</td>\n",
       "      <td>356.165678</td>\n",
       "      <td>367.568975</td>\n",
       "      <td>2.439630</td>\n",
       "      <td>370.008605</td>\n",
       "      <td>365.129345</td>\n",
       "    </tr>\n",
       "    <tr>\n",
       "      <th>2020-12-28</th>\n",
       "      <td>372.1400</td>\n",
       "      <td>347.661094</td>\n",
       "      <td>367.993475</td>\n",
       "      <td>324.615119</td>\n",
       "      <td>356.709822</td>\n",
       "      <td>367.993475</td>\n",
       "      <td>2.460381</td>\n",
       "      <td>370.453856</td>\n",
       "      <td>365.533094</td>\n",
       "    </tr>\n",
       "    <tr>\n",
       "      <th>2020-12-29</th>\n",
       "      <td>371.4800</td>\n",
       "      <td>348.032794</td>\n",
       "      <td>368.467475</td>\n",
       "      <td>324.938838</td>\n",
       "      <td>357.212948</td>\n",
       "      <td>368.467475</td>\n",
       "      <td>2.136852</td>\n",
       "      <td>370.604327</td>\n",
       "      <td>366.330623</td>\n",
       "    </tr>\n",
       "    <tr>\n",
       "      <th>2020-12-30</th>\n",
       "      <td>371.9300</td>\n",
       "      <td>348.406594</td>\n",
       "      <td>368.765475</td>\n",
       "      <td>325.263430</td>\n",
       "      <td>357.714265</td>\n",
       "      <td>368.765475</td>\n",
       "      <td>2.185264</td>\n",
       "      <td>370.950739</td>\n",
       "      <td>366.580211</td>\n",
       "    </tr>\n",
       "    <tr>\n",
       "      <th>2020-12-31</th>\n",
       "      <td>373.8500</td>\n",
       "      <td>348.789594</td>\n",
       "      <td>369.119980</td>\n",
       "      <td>325.599042</td>\n",
       "      <td>358.263908</td>\n",
       "      <td>369.119980</td>\n",
       "      <td>2.406666</td>\n",
       "      <td>371.526646</td>\n",
       "      <td>366.713314</td>\n",
       "    </tr>\n",
       "  </tbody>\n",
       "</table>\n",
       "</div>"
      ],
      "text/plain": [
       "                 SPY    SMA_long   SMA_short    EMA_long   EMA_short  \\\n",
       "2020-12-24  368.9899  347.260294  367.568975  324.284557  356.165678   \n",
       "2020-12-28  372.1400  347.661094  367.993475  324.615119  356.709822   \n",
       "2020-12-29  371.4800  348.032794  368.467475  324.938838  357.212948   \n",
       "2020-12-30  371.9300  348.406594  368.765475  325.263430  357.714265   \n",
       "2020-12-31  373.8500  348.789594  369.119980  325.599042  358.263908   \n",
       "\n",
       "               BBD_mid   BBD_std   BBD_upper   BBD_lower  \n",
       "2020-12-24  367.568975  2.439630  370.008605  365.129345  \n",
       "2020-12-28  367.993475  2.460381  370.453856  365.533094  \n",
       "2020-12-29  368.467475  2.136852  370.604327  366.330623  \n",
       "2020-12-30  368.765475  2.185264  370.950739  366.580211  \n",
       "2020-12-31  369.119980  2.406666  371.526646  366.713314  "
      ]
     },
     "execution_count": 43,
     "metadata": {},
     "output_type": "execute_result"
    }
   ],
   "source": [
    "signals_df.dropna(inplace=True)\n",
    "signals_df.tail()"
   ]
  },
  {
   "cell_type": "code",
   "execution_count": null,
   "metadata": {},
   "outputs": [],
   "source": []
  }
 ],
 "metadata": {
  "kernelspec": {
   "display_name": "Algoenv",
   "language": "python",
   "name": "algoenv"
  },
  "language_info": {
   "codemirror_mode": {
    "name": "ipython",
    "version": 3
   },
   "file_extension": ".py",
   "mimetype": "text/x-python",
   "name": "python",
   "nbconvert_exporter": "python",
   "pygments_lexer": "ipython3",
   "version": "3.7.9"
  }
 },
 "nbformat": 4,
 "nbformat_minor": 4
}
